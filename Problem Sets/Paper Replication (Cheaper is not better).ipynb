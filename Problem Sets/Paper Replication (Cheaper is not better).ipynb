{
 "cells": [
  {
   "cell_type": "code",
   "execution_count": 1,
   "metadata": {},
   "outputs": [],
   "source": [
    "import wrds "
   ]
  },
  {
   "cell_type": "markdown",
   "metadata": {},
   "source": [
    "WRDS Thomson Reuters Mutual Funds: https://wrds-www.wharton.upenn.edu/pages/get-data/thomson-reuters/ \n",
    "\n",
    "WRDS CRSP Mutual Funds: https://wrds-www.wharton.upenn.edu/data-dictionary/crsp_q_mutualfunds/ \n",
    "\n",
    "Username: lyknguyen \n",
    "Password: Khanhly_1609 "
   ]
  },
  {
   "cell_type": "code",
   "execution_count": 2,
   "metadata": {},
   "outputs": [
    {
     "name": "stdout",
     "output_type": "stream",
     "text": [
      "WRDS recommends setting up a .pgpass file.\n",
      "Created .pgpass file successfully.\n",
      "You can create this file yourself at any time with the create_pgpass_file() function.\n",
      "Loading library list...\n",
      "Done\n"
     ]
    }
   ],
   "source": [
    "conn = wrds.Connection() "
   ]
  },
  {
   "cell_type": "code",
   "execution_count": null,
   "metadata": {},
   "outputs": [],
   "source": [
    "# conn.list_tables(library='crsp') \n",
    "# conn.list_tables(library='tr_mutualfunds') "
   ]
  },
  {
   "cell_type": "code",
   "execution_count": 7,
   "metadata": {},
   "outputs": [],
   "source": [
    "import pandas as pd "
   ]
  },
  {
   "cell_type": "code",
   "execution_count": 5,
   "metadata": {},
   "outputs": [],
   "source": [
    "# DATA SOURCE 1.1 - CRSP Mutual Funds (fund_summary2)\n",
    "# conn.get_table(library='crsp',table='fund_summary2',obs=5).columns "
   ]
  },
  {
   "cell_type": "code",
   "execution_count": 4,
   "metadata": {},
   "outputs": [],
   "source": [
    "# DATA SOURCE 1.1 - CRSP Mutual Funds (fund_summary2)\n",
    "# conn.get_table(library='crsp',table='fund_summary2',obs=5).columns \n",
    "\n",
    "# Takes 1 minute to run \n",
    "crspfundsum = conn.raw_sql(\n",
    "    \"\"\"\n",
    "    select crsp_fundno,ticker,caldt,crsp_obj_cd,si_obj_cd,mgmt_cd,fund_name,index_fund_flag,retail_fund,inst_fund,lipper_class_name\n",
    "    from crsp.fund_summary2 \n",
    "    where caldt <= '2018-12-31'\n",
    "    order by crsp_fundno, caldt\n",
    "    \"\"\", \n",
    "    date_cols=['caldt']\n",
    ") \n",
    "\n",
    "crspfundsum['crsp_fundno'] = crspfundsum['crsp_fundno'].astype(int) # convert to integer \n",
    "crspfundsum['year'] = crspfundsum['caldt'].dt.year  # extract the year \n",
    "\n",
    "# sort and then duplicates drop fundno and year, keep the last occurrence of each duplicated row \n",
    "crspfundsum = crspfundsum.sort_values(by=['crsp_fundno','caldt']).drop_duplicates(subset=['crsp_fundno','year'],keep='last') "
   ]
  },
  {
   "cell_type": "code",
   "execution_count": 8,
   "metadata": {},
   "outputs": [],
   "source": [
    "# DATA SOURCE 1.2 - CRSP Mutual Funds (monthly_tna_ret_nav) \n",
    "# also takes about 1 minute to run \n",
    "\n",
    "monthly_tna_ret_nav = conn.raw_sql(\n",
    "    \"\"\"\n",
    "    select crsp_fundno,caldt,mret,mtna,mnav\n",
    "    from crsp.monthly_tna_ret_nav\n",
    "    where caldt >= '1980-01-01'\n",
    "    AND caldt <= '2019-12-31'\n",
    "    order by crsp_fundno, caldt\n",
    "    \"\"\", \n",
    "    date_cols=['caldt']\n",
    ")\n",
    "monthly_tna_ret_nav['crsp_fundno'] =monthly_tna_ret_nav['crsp_fundno'].astype(int)  # convert to integer \n",
    "monthly_tna_ret_nav = monthly_tna_ret_nav.dropna()   # drop missing values \n",
    "monthly_tna_ret_nav = monthly_tna_ret_nav.sort_values(by=['crsp_fundno', 'caldt'])\n",
    "monthly_tna_ret_nav[\"ym\"] = pd.to_datetime(monthly_tna_ret_nav['caldt'], format='%Y-%m').dt.to_period('M')\n",
    "#monthly_tna_ret_nav = monthly_tna_ret_nav.drop(columns=['caldt'])\n",
    "#monthly_tna_ret_nav['year'] = monthly_tna_ret_nav.ym.dt.year "
   ]
  }
 ],
 "metadata": {
  "kernelspec": {
   "display_name": "Python 3",
   "language": "python",
   "name": "python3"
  },
  "language_info": {
   "codemirror_mode": {
    "name": "ipython",
    "version": 3
   },
   "file_extension": ".py",
   "mimetype": "text/x-python",
   "name": "python",
   "nbconvert_exporter": "python",
   "pygments_lexer": "ipython3",
   "version": "3.10.5"
  }
 },
 "nbformat": 4,
 "nbformat_minor": 2
}
