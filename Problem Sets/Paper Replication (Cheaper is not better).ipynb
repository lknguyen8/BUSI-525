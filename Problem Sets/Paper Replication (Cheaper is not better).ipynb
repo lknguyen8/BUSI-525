{
 "cells": [
  {
   "cell_type": "code",
   "execution_count": 1,
   "metadata": {},
   "outputs": [],
   "source": [
    "import wrds "
   ]
  },
  {
   "cell_type": "markdown",
   "metadata": {},
   "source": [
    "WRDS Thomson Reuters Mutual Funds: https://wrds-www.wharton.upenn.edu/pages/get-data/thomson-reuters/ \n",
    "\n",
    "WRDS CRSP Mutual Funds: https://wrds-www.wharton.upenn.edu/data-dictionary/crsp_q_mutualfunds/ \n",
    "\n",
    "Username: lyknguyen \n",
    "Password: Khanhly_1609 "
   ]
  },
  {
   "cell_type": "code",
   "execution_count": 2,
   "metadata": {},
   "outputs": [
    {
     "name": "stdout",
     "output_type": "stream",
     "text": [
      "WRDS recommends setting up a .pgpass file.\n",
      "Created .pgpass file successfully.\n",
      "You can create this file yourself at any time with the create_pgpass_file() function.\n",
      "Loading library list...\n",
      "Done\n"
     ]
    }
   ],
   "source": [
    "conn = wrds.Connection() "
   ]
  },
  {
   "cell_type": "code",
   "execution_count": null,
   "metadata": {},
   "outputs": [],
   "source": [
    "# conn.list_tables(library='crsp') \n",
    "# conn.list_tables(library='tr_mutualfunds') "
   ]
  },
  {
   "cell_type": "code",
   "execution_count": 3,
   "metadata": {},
   "outputs": [
    {
     "data": {
      "text/plain": [
       "Index(['summary_period2', 'crsp_fundno', 'caldt', 'summary_period',\n",
       "       'nav_latest', 'nav_latest_dt', 'tna_latest', 'tna_latest_dt', 'yield',\n",
       "       'div_ytd', 'cap_gains_ytd', 'nav_52w_h', 'nav_52w_h_dt', 'nav_52w_l',\n",
       "       'nav_52w_l_dt', 'unrealized_app_dep', 'unrealized_app_dt', 'asset_dt',\n",
       "       'per_com', 'per_pref', 'per_conv', 'per_corp', 'per_muni', 'per_govt',\n",
       "       'per_oth', 'per_cash', 'per_bond', 'per_abs', 'per_mbs', 'per_eq_oth',\n",
       "       'per_fi_oth', 'maturity', 'maturity_dt', 'cusip8', 'crsp_portno',\n",
       "       'crsp_cl_grp', 'fund_name', 'ticker', 'ncusip', 'mgmt_name', 'mgmt_cd',\n",
       "       'mgr_name', 'mgr_dt', 'adv_name', 'open_to_inv', 'retail_fund',\n",
       "       'inst_fund', 'm_fund', 'index_fund_flag', 'vau_fund', 'et_flag',\n",
       "       'delist_cd', 'header', 'first_offer_dt', 'end_dt', 'dead_flag',\n",
       "       'merge_fundno', 'actual_12b1', 'max_12b1', 'mgmt_fee', 'exp_ratio',\n",
       "       'turn_ratio', 'fiscal_yearend', 'crsp_obj_cd', 'si_obj_cd',\n",
       "       'accrual_fund', 'sales_restrict', 'wbrger_obj_cd', 'policy',\n",
       "       'lipper_class', 'lipper_class_name', 'lipper_obj_cd', 'lipper_obj_name',\n",
       "       'lipper_asset_cd', 'lipper_tax_cd'],\n",
       "      dtype='object')"
      ]
     },
     "execution_count": 3,
     "metadata": {},
     "output_type": "execute_result"
    }
   ],
   "source": [
    "# DATA SOURCE 1.1 - CRSP Mutual Funds (fund_summary2)\n",
    "conn.get_table(library='crsp',table='fund_summary2',obs=5).columns "
   ]
  },
  {
   "cell_type": "code",
   "execution_count": 4,
   "metadata": {},
   "outputs": [],
   "source": [
    "# Takes 1 minute to run \n",
    "crspfundsum = conn.raw_sql(\n",
    "    \"\"\"\n",
    "    select crsp_fundno,ticker,caldt,crsp_obj_cd,si_obj_cd,mgmt_cd,fund_name,index_fund_flag,retail_fund,inst_fund,lipper_class_name\n",
    "    from crsp.fund_summary2 \n",
    "    where caldt <= '2018-12-31'\n",
    "    order by crsp_fundno, caldt\n",
    "    \"\"\", \n",
    "    date_cols=['caldt']\n",
    ") \n",
    "\n",
    "crspfundsum['crsp_fundno'] = crspfundsum['crsp_fundno'].astype(int) # convert to integer \n",
    "crspfundsum['year'] = crspfundsum['caldt'].dt.year  # extract the year \n",
    "\n",
    "# sort and then duplicates drop fundno and year, keep the last occurrence of each duplicated row \n",
    "crspfundsum = crspfundsum.sort_values(by=['crsp_fundno','caldt']).drop_duplicates(subset=['crsp_fundno','year'],keep='last') "
   ]
  }
 ],
 "metadata": {
  "kernelspec": {
   "display_name": "Python 3",
   "language": "python",
   "name": "python3"
  },
  "language_info": {
   "codemirror_mode": {
    "name": "ipython",
    "version": 3
   },
   "file_extension": ".py",
   "mimetype": "text/x-python",
   "name": "python",
   "nbconvert_exporter": "python",
   "pygments_lexer": "ipython3",
   "version": "3.10.5"
  }
 },
 "nbformat": 4,
 "nbformat_minor": 2
}
