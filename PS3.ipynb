{
 "cells": [
  {
   "cell_type": "markdown",
   "metadata": {},
   "source": [
    "Ly Nguyen \n",
    "\n",
    "Problem Set 3 \n",
    "\n",
    "PART 1 - Finite Sample Bias "
   ]
  },
  {
   "cell_type": "code",
   "execution_count": 5,
   "metadata": {},
   "outputs": [],
   "source": [
    "import numpy as np \n",
    "from numpy import random as rand\n",
    "from sklearn.linear_model import LinearRegression\n",
    "import matplotlib.pyplot as plt "
   ]
  },
  {
   "cell_type": "code",
   "execution_count": 7,
   "metadata": {},
   "outputs": [],
   "source": [
    "# Parameters\n",
    "\n",
    "alpha= 0 \n",
    "theta = 0\n",
    "beta = .015\n",
    "sigmaU = .053\n",
    "sigmaV = .044\n",
    "rho = .98\n",
    "RhoUV = -.8\n",
    "sigmaUV = RhoUV*sigmaU*sigmaV\n",
    "\n",
    "T = [120,240,360,480,600,720,840,960,1080,1200]\n",
    "B = 250"
   ]
  }
 ],
 "metadata": {
  "kernelspec": {
   "display_name": "Python 3",
   "language": "python",
   "name": "python3"
  },
  "language_info": {
   "codemirror_mode": {
    "name": "ipython",
    "version": 3
   },
   "file_extension": ".py",
   "mimetype": "text/x-python",
   "name": "python",
   "nbconvert_exporter": "python",
   "pygments_lexer": "ipython3",
   "version": "3.10.5"
  }
 },
 "nbformat": 4,
 "nbformat_minor": 2
}
